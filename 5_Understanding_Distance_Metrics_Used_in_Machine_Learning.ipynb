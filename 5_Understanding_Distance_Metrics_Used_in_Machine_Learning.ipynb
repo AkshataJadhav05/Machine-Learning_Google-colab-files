{
  "nbformat": 4,
  "nbformat_minor": 0,
  "metadata": {
    "colab": {
      "provenance": []
    },
    "kernelspec": {
      "name": "python3",
      "display_name": "Python 3"
    },
    "language_info": {
      "name": "python"
    }
  },
  "cells": [
    {
      "cell_type": "markdown",
      "source": [
        "**Euclidean Distance or L2 Distance**"
      ],
      "metadata": {
        "id": "3k695jGrewoQ"
      }
    },
    {
      "cell_type": "code",
      "source": [
        "#importing the library\n",
        "from scipy.spatial import distance\n",
        "\n",
        "#Defining the points\n",
        "\n",
        "point_1=(4,5,6)\n",
        "point_2=(8,9,10)\n",
        "\n",
        "#computing the euclidean distance\n",
        "\n",
        "Euclidean_distance = distance.euclidean(point_1,point_2)\n",
        "print(\"Euclidean distance between point_1 and point_2 is:\",Euclidean_distance)\n"
      ],
      "metadata": {
        "colab": {
          "base_uri": "https://localhost:8080/"
        },
        "id": "nVyBhNxre9KG",
        "outputId": "a485b2a7-5db8-4160-ab52-d405c5bdd2da"
      },
      "execution_count": 2,
      "outputs": [
        {
          "output_type": "stream",
          "name": "stdout",
          "text": [
            "Euclidean distance between point_1 and point_2 is: 6.928203230275509\n"
          ]
        }
      ]
    },
    {
      "cell_type": "markdown",
      "source": [
        "**Manhattan Distance or city block distance**"
      ],
      "metadata": {
        "id": "lgdJVd8blp9D"
      }
    },
    {
      "cell_type": "code",
      "source": [
        "#importing the library\n",
        "from scipy.spatial import distance\n",
        "\n",
        "#Defining the points\n",
        "\n",
        "point_1=(4,5,6)\n",
        "point_2=(8,9,10)\n",
        "\n",
        "#computing the manhattan distance\n",
        "\n",
        "Manhattan_distance=distance.cityblock(point_1,point_2)\n",
        "print(\"Manhattan distance between point_1 and point_2 is:\",Manhattan_distance)"
      ],
      "metadata": {
        "colab": {
          "base_uri": "https://localhost:8080/"
        },
        "id": "LnM4OtvNlxVP",
        "outputId": "84647c33-ee74-42ce-b91a-ee4a435fbcfb"
      },
      "execution_count": 6,
      "outputs": [
        {
          "output_type": "stream",
          "name": "stdout",
          "text": [
            "Manhattan distance between point_1 and point_2 is: 12\n"
          ]
        }
      ]
    },
    {
      "cell_type": "markdown",
      "source": [
        "**Minkowski Distance**"
      ],
      "metadata": {
        "id": "0aju9Yyp-azM"
      }
    },
    {
      "cell_type": "code",
      "source": [
        "#Let’s calculate the Minkowski Distance formula of order 3\n",
        "\n",
        "#importing the library\n",
        "from scipy.spatial import distance\n",
        "\n",
        "#Defining the points\n",
        "\n",
        "point_1=(4,5,6)\n",
        "point_2=(8,9,10)\n",
        "\n",
        "#computing the minknowski distance\n",
        "\n",
        "minkowski_distance = distance.minkowski(point_1, point_2, p=3)\n",
        "print(\"Minknowski distance between point_1 and point_2 is:\",minkowski_distance)\n"
      ],
      "metadata": {
        "colab": {
          "base_uri": "https://localhost:8080/"
        },
        "id": "_qtdqsri-c8y",
        "outputId": "bcd89896-0b85-4263-c519-41ade39ffaa7"
      },
      "execution_count": 1,
      "outputs": [
        {
          "output_type": "stream",
          "name": "stdout",
          "text": [
            "Minknowski distance between point_1 and point_2 is: 5.768998281229633\n"
          ]
        }
      ]
    },
    {
      "cell_type": "code",
      "source": [
        "#Let’s calculate the Minkowski Distance formula of order 1\n",
        "\n",
        "#importing the library\n",
        "from scipy.spatial import distance\n",
        "\n",
        "#Defining the points\n",
        "\n",
        "point_1=(4,5,6)\n",
        "point_2=(8,9,10)\n",
        "\n",
        "#computing the minknowski distance\n",
        "\n",
        "minkowski_distance = distance.minkowski(point_1, point_2, p=1)\n",
        "print(\"Minknowski distance between point_1 and point_2 is:\",minkowski_distance)\n",
        "\n",
        "#computing the manhattan distance\n",
        "\n",
        "Manhattan_distance=distance.cityblock(point_1,point_2)\n",
        "print(\"Manhattan distance between point_1 and point_2 is:\",Manhattan_distance)"
      ],
      "metadata": {
        "colab": {
          "base_uri": "https://localhost:8080/"
        },
        "id": "CvmyEPWbThLJ",
        "outputId": "ae40512d-bd8a-493e-cdaf-87cf5f864758"
      },
      "execution_count": 2,
      "outputs": [
        {
          "output_type": "stream",
          "name": "stdout",
          "text": [
            "Minknowski distance between point_1 and point_2 is: 12.0\n",
            "Manhattan distance between point_1 and point_2 is: 12\n"
          ]
        }
      ]
    },
    {
      "cell_type": "markdown",
      "source": [
        "Note :-when the order is 1, both Minkowski and Manhattan Distance are the same"
      ],
      "metadata": {
        "id": "xCZwa2B4U4gY"
      }
    },
    {
      "cell_type": "code",
      "source": [
        "#Let’s calculate the Minkowski Distance formula of order 2\n",
        "\n",
        "#importing the library\n",
        "from scipy.spatial import distance\n",
        "\n",
        "#Defining the points\n",
        "\n",
        "point_1=(4,5,6)\n",
        "point_2=(8,9,10)\n",
        "\n",
        "#computing the minknowski distance\n",
        "\n",
        "minkowski_distance = distance.minkowski(point_1, point_2, p=2)\n",
        "print(\"Minknowski distance between point_1 and point_2 is:\",minkowski_distance)\n",
        "\n",
        "#computing the euclidean distance\n",
        "\n",
        "Euclidean_distance = distance.euclidean(point_1,point_2)\n",
        "print(\"Euclidean distance between point_1 and point_2 is:\",Euclidean_distance)"
      ],
      "metadata": {
        "colab": {
          "base_uri": "https://localhost:8080/"
        },
        "id": "KoWz3jXbVExx",
        "outputId": "79c6b6ab-8a90-4109-fe3a-65fbe27df13f"
      },
      "execution_count": 3,
      "outputs": [
        {
          "output_type": "stream",
          "name": "stdout",
          "text": [
            "Minknowski distance between point_1 and point_2 is: 6.928203230275509\n",
            "Euclidean distance between point_1 and point_2 is: 6.928203230275509\n"
          ]
        }
      ]
    },
    {
      "cell_type": "markdown",
      "source": [
        "Note :-When the order is 2,both Minkowski and Euclidean distances are the same."
      ],
      "metadata": {
        "id": "fvy_P4d8Vgaa"
      }
    }
  ]
}