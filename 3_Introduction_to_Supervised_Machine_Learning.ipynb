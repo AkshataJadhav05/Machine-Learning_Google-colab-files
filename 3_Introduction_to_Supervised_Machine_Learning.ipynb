{
  "nbformat": 4,
  "nbformat_minor": 0,
  "metadata": {
    "colab": {
      "provenance": []
    },
    "kernelspec": {
      "name": "python3",
      "display_name": "Python 3"
    },
    "language_info": {
      "name": "python"
    }
  },
  "cells": [
    {
      "cell_type": "markdown",
      "source": [
        "This is the concise guide to quick start the fundamentals of supervised machine learning. Whether you're new to the field or seeking a refresher, this overview will set the stage for your journey into understanding this powerful branch of artificial intelligence."
      ],
      "metadata": {
        "id": "HQEOu2ozkNeB"
      }
    },
    {
      "cell_type": "markdown",
      "source": [
        "**Types of Machine learning**\n",
        "\n",
        "1.Supervised Machine Learning\n",
        "\n",
        "2.Unsupervised Machine Learning\n",
        "\n",
        "3.Semi-Supervised Machine Learning\n",
        "\n",
        "4.Reinforcement Learning"
      ],
      "metadata": {
        "id": "fe7cFDSSM3WN"
      }
    },
    {
      "cell_type": "markdown",
      "source": [
        "**Supervised Machine Learning:-**\n",
        "\n",
        "As its name suggests, Supervised machine learning is based on supervision. It means in the supervised learning technique, we train the machines using the \"labelled\" dataset, and based on the training, the machine predicts the output"
      ],
      "metadata": {
        "id": "nfSzTliFNd5y"
      }
    },
    {
      "cell_type": "markdown",
      "source": [
        "Let's understand supervised learning with an example. Suppose we have an input dataset of cats and dog images. So, first, we will provide the training to the machine to understand the images, such as the shape & size of the tail of cat and dog, Shape of eyes, colour, height (dogs are taller, cats are smaller), etc. After completion of training, we input the picture of a cat and ask the machine to identify the object and predict the output. Now, the machine is well trained, so it will check all the features of the object, such as height, shape, colour, eyes, ears, tail, etc., and find that it's a cat. So, it will put it in the Cat category. This is the process of how the machine identifies the objects in Supervised Learning."
      ],
      "metadata": {
        "id": "QTdXvIavQFsj"
      }
    },
    {
      "cell_type": "code",
      "source": [
        "Input              Logic            Input        Output\n",
        "------> Algorithm ------>          ------> Logic ------>\n",
        "\n",
        "       Training                        Testing"
      ],
      "metadata": {
        "id": "XrQ5Fm3Pb6za"
      },
      "execution_count": null,
      "outputs": []
    },
    {
      "cell_type": "markdown",
      "source": [
        "**Training the system:** While training the model, data is usually split in the ratio of 80:20 i.e. 80% as training data and the rest as testing data. In training data, we feed input as well as output for 80% of data. The model learns from training data only. We use different machine learning algorithms to build our model. Learning means that the model will build some logic of its own.\n",
        "Once the model is ready then it is good to be tested. At the time of testing, the input is fed from the remaining 20% of data that the model has never seen before, the model will predict some value and we will compare it with the actual output and calculate the accuracy."
      ],
      "metadata": {
        "id": "nuzrXG56dQiO"
      }
    },
    {
      "cell_type": "markdown",
      "source": [
        "**Categories of Supervised Machine Learning:**\n",
        "\n",
        "1.Classification\n",
        "\n",
        "2.Regression\n"
      ],
      "metadata": {
        "id": "Ppn9vRnEQHN7"
      }
    },
    {
      "cell_type": "markdown",
      "source": [
        "**1.Classification**:Classification algorithms are used to solve the classification problems in which the output variable is categorical, such as \"Yes\" or No, Male or Female, Red or Blue, etc. The classification algorithms predict the categories present in the dataset. Some real-world examples of classification algorithms are Spam Detection, Email filtering, etc."
      ],
      "metadata": {
        "id": "zrIHgeLxaO9J"
      }
    },
    {
      "cell_type": "markdown",
      "source": [
        "**2.Regression:**Regression algorithms are used to solve regression problems in which there is a linear relationship between input and output variables. These are used to predict continuous output variables, such as market trends, weather prediction, etc."
      ],
      "metadata": {
        "id": "xYdk2Lnse3Jr"
      }
    },
    {
      "cell_type": "markdown",
      "source": [
        "**Here are some of the most common types of supervised learning algorithms:**\n",
        "\n",
        "1.Linear regression\n",
        "\n",
        "2.Logistic regression\n",
        "\n",
        "3.Decision tree\n",
        "\n",
        "4.Random forests\n",
        "\n",
        "5.Support Vector Machine(SVM)\n",
        "\n",
        "6.K-Nearest Neighbors(KNN)\n",
        "\n",
        "7.Gradient Boosting"
      ],
      "metadata": {
        "id": "zRGVcA2Afkma"
      }
    },
    {
      "cell_type": "markdown",
      "source": [
        "**Advantages:**\n",
        "Since supervised learning work with the labelled dataset so we can have an exact idea about the classes of objects.\n",
        "These algorithms are helpful in predicting the output on the basis of prior experience.\n",
        "\n",
        "**Disadvantages:**\n",
        "These algorithms are not able to solve complex tasks.\n",
        "It may predict the wrong output if the test data is different from the training data.It requires lots of computational time to train the algorithm."
      ],
      "metadata": {
        "id": "eCfEWRyUig05"
      }
    },
    {
      "cell_type": "markdown",
      "source": [
        "**Some common applications of Supervised Learning are given below:**\n",
        "\n",
        "1.Image Segmentation\n",
        "\n",
        "2.Medical Diagnosis\n",
        "\n",
        "3.Fraud Detection\n",
        "\n",
        "4.Spam detection\n",
        "\n",
        "5.Speech Recognition"
      ],
      "metadata": {
        "id": "eYzY9G0DjL7S"
      }
    }
  ]
}