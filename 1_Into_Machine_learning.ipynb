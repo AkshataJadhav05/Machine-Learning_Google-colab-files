{
  "nbformat": 4,
  "nbformat_minor": 0,
  "metadata": {
    "colab": {
      "provenance": []
    },
    "kernelspec": {
      "name": "python3",
      "display_name": "Python 3"
    },
    "language_info": {
      "name": "python"
    }
  },
  "cells": [
    {
      "cell_type": "markdown",
      "source": [
        "**What is Machine learning?**\n",
        "\n",
        "The domain where you use data to make the machine learn for specific task where the performance should be reliable."
      ],
      "metadata": {
        "id": "OUc29ubEku5Y"
      }
    },
    {
      "cell_type": "markdown",
      "source": [
        "**Machine Learning v/s Traditional Programming:**\n",
        "\n",
        "Traditional Programming:-\n",
        "  (Program, Input) ----> Computer ---> Output\n",
        "\n",
        "Machine Learning:-\n",
        "  (Input, Output) ----> Computer --->  Program\n",
        "\n",
        "Program: f(Input)  ---> Output"
      ],
      "metadata": {
        "id": "wAN71qxqk-nt"
      }
    },
    {
      "cell_type": "markdown",
      "source": [
        "**Spcific Tasks where ML is used:**\n",
        "1. The task doesn't have a well-defined formula. Difficult to encode human expertise.\n",
        "2. Rapidly changing phenomenon.\n",
        "3. Customization/Personalization\n",
        "4. Human expertise doesn't exist."
      ],
      "metadata": {
        "id": "7HbGEFEKlxPV"
      }
    },
    {
      "cell_type": "markdown",
      "source": [
        "**Approach/steps/process:**"
      ],
      "metadata": {
        "id": "99QSLwwfoXBz"
      }
    },
    {
      "cell_type": "code",
      "source": [
        "\n",
        "                                          [Data Engineer]\n",
        "    Data Elicitation (Collection)       ------->         Feature Engineering\n",
        "[Amount of Data: As much as we can get]        [Relevant Characteristics about the task]\n",
        "1. Time Consuming\n",
        "2. Expensive\n",
        "\n",
        "                                [Data Scientist]                     |\n",
        "                           Structured Dataset [Tabular]            <--\n",
        "                        [To train your model/learing models]"
      ],
      "metadata": {
        "id": "hsb3TZN_stWM"
      },
      "execution_count": null,
      "outputs": []
    },
    {
      "cell_type": "markdown",
      "source": [
        "**Resources to get the tabular (structured) datasets:**\n",
        "1. Kaggle\n",
        "2. UCI ML repository\n",
        "3. Stanford's SNAP [Graph ML]\n",
        "4. Other technical blogs"
      ],
      "metadata": {
        "id": "sMjnwkfEtltZ"
      }
    },
    {
      "cell_type": "markdown",
      "source": [
        "**Popular libary for machine learning algorithms:**\n",
        "\n",
        "Sklearn (Science-Kit Learn)\n",
        "\n",
        "For data pre-processing:-pandas and numpy\n",
        "\n",
        "For data visualization:-matplotlib"
      ],
      "metadata": {
        "id": "rw0SAPsktqp2"
      }
    }
  ]
}